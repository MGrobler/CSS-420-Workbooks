{
 "metadata": {
  "kernelspec": {
   "display_name": "Python 2",
   "language": "python",
   "name": "python2"
  },
  "language_info": {
   "codemirror_mode": {
    "name": "ipython",
    "version": 2
   },
   "file_extension": ".py",
   "mimetype": "text/x-python",
   "name": "python",
   "nbconvert_exporter": "python",
   "pygments_lexer": "ipython2",
   "version": "2.7.2"
  },
  "name": ""
 },
 "nbformat": 3,
 "nbformat_minor": 0,
 "worksheets": [
  {
   "cells": [
    {
     "cell_type": "markdown",
     "metadata": {},
     "source": [
      "Lecture 3\n",
      "===========================================================================\n",
      "\n",
      "Convexity and Hessians\n",
      "------------"
     ]
    },
    {
     "cell_type": "code",
     "collapsed": false,
     "input": [
      "from sympy import *\n",
      "\n",
      "%matplotlib inline\n",
      "init_printing(use_latex='mathjax')"
     ],
     "language": "python",
     "metadata": {},
     "outputs": [],
     "prompt_number": null
    },
    {
     "cell_type": "markdown",
     "metadata": {},
     "source": [
      "Let's find the derivatives of a few functions"
     ]
    },
    {
     "cell_type": "code",
     "collapsed": false,
     "input": [
      "x = Symbol('x', real=True)\n",
      "functions = (('a', 3*x**2),\n",
      "             ('b', 2*x),\n",
      "             ('c', -5*x**2),\n",
      "             ('d', 2*x**2 - x**3))\n",
      "for (c, f) in functions:\n",
      "    derivative = diff(f, x, 2)\n",
      "    positivex = solve(derivative>0, x)\n",
      "    print c, str(derivative), positivex"
     ],
     "language": "python",
     "metadata": {},
     "outputs": [],
     "prompt_number": null
    },
    {
     "cell_type": "markdown",
     "metadata": {},
     "source": [
      "We can also evaluate symbolic expressions of multiple variables"
     ]
    },
    {
     "cell_type": "code",
     "collapsed": false,
     "input": [
      "x1, x2 = symbols('x1 x2')\n",
      "f = 2*x1**3 - 3*x1*x2 + 2*x2**3\n",
      "f"
     ],
     "language": "python",
     "metadata": {},
     "outputs": [],
     "prompt_number": null
    },
    {
     "cell_type": "markdown",
     "metadata": {},
     "source": [
      "For example f(1,2)"
     ]
    },
    {
     "cell_type": "code",
     "collapsed": false,
     "input": [
      "f.subs({x1: 1, x2: 2})"
     ],
     "language": "python",
     "metadata": {},
     "outputs": [],
     "prompt_number": null
    },
    {
     "cell_type": "markdown",
     "metadata": {},
     "source": [
      "And take the partial derivative w.r.t. each variable"
     ]
    },
    {
     "cell_type": "code",
     "collapsed": false,
     "input": [
      "df = [f.diff(m, 1) for m in [x1, x2]]\n",
      "df"
     ],
     "language": "python",
     "metadata": {
      "scrolled": true
     },
     "outputs": [],
     "prompt_number": null
    },
    {
     "cell_type": "markdown",
     "metadata": {},
     "source": [
      "We can use this to build a function to calculate the gradient vector:"
     ]
    },
    {
     "cell_type": "code",
     "collapsed": true,
     "input": [
      "def gradient(f, vars):\n",
      "    return Matrix([f.diff(v) for v in vars])"
     ],
     "language": "python",
     "metadata": {},
     "outputs": [],
     "prompt_number": null
    },
    {
     "cell_type": "code",
     "collapsed": false,
     "input": [
      "gradient(f, [x1, x2])"
     ],
     "language": "python",
     "metadata": {},
     "outputs": [],
     "prompt_number": null
    },
    {
     "cell_type": "markdown",
     "metadata": {},
     "source": [
      "Second order derivative"
     ]
    },
    {
     "cell_type": "code",
     "collapsed": false,
     "input": [
      "df2 = [f.diff(m, 2) for m in [x1, x2]]\n",
      "df2"
     ],
     "language": "python",
     "metadata": {},
     "outputs": [],
     "prompt_number": null
    },
    {
     "cell_type": "markdown",
     "metadata": {},
     "source": [
      "Partial derivative w.r.t. one variable then the next"
     ]
    },
    {
     "cell_type": "code",
     "collapsed": false,
     "input": [
      "varx = [x1, x2]\n",
      "dfx1x2 = [df[i].diff(varx[1-i], 1) for i in range(0,2)]\n",
      "dfx1x2"
     ],
     "language": "python",
     "metadata": {},
     "outputs": [],
     "prompt_number": null
    },
    {
     "cell_type": "markdown",
     "metadata": {},
     "source": [
      "Remember the Hessian is the matrix of repeated partial differentials:\n",
      "\n",
      "$$\\begin{bmatrix} \\frac{\\partial^2 f}{\\partial x_{1}^2} & \\frac{\\partial^2 f}{\\partial x_{1} \\partial x_{2}} \\\\ \\frac{\\partial^2 f}{\\partial x_{2} \\partial x_{1}} & \\frac{\\partial^2 f}{\\partial x_{2}^2} \\end{bmatrix}$$"
     ]
    },
    {
     "cell_type": "code",
     "collapsed": false,
     "input": [
      "H = hessian(f, [x1, x2])\n",
      "H"
     ],
     "language": "python",
     "metadata": {},
     "outputs": [],
     "prompt_number": null
    },
    {
     "cell_type": "markdown",
     "metadata": {},
     "source": [
      "We can still evaluate these expressions at a specific point"
     ]
    },
    {
     "cell_type": "code",
     "collapsed": false,
     "input": [
      "H.subs({x1: 1, x2: 2})"
     ],
     "language": "python",
     "metadata": {},
     "outputs": [],
     "prompt_number": null
    },
    {
     "cell_type": "code",
     "collapsed": false,
     "input": [
      "x1, x2 = var('x1 x2')\n",
      "f2 = 2*x1**2 + 2*x1*x2 + 1.5*x2**2 + 7*x1 + 8*x2 + 24\n",
      "H2 = hessian(f2, [x1, x2])\n",
      "H2"
     ],
     "language": "python",
     "metadata": {},
     "outputs": [],
     "prompt_number": null
    },
    {
     "cell_type": "markdown",
     "metadata": {},
     "source": [
      "Positive definiteness is the matrix analogue to positiveness in scalars. Observe these definitions:\n",
      "\n",
      "$x^THx \\geq 0 \\forall x \\iff H~\\text{positive semidefinite}$ similar to $h \\geq 0 \\iff h~\\text{positive}$\n",
      "\n",
      "$x^THx > 0 \\forall x \\neq 0 \\iff H~\\text{positive definite}$ similar to $h > 0 \\iff h~\\text{strictly positive}$\n",
      "\n",
      "$x^THx < 0 \\forall x \\neq 0 \\iff H~\\text{negative definite}$ similar to $h < 0 \\iff h~\\text{strictly negative}$\n",
      "\n",
      "$x^THx \\leq 0 \\forall x \\iff H~\\text{positive semidefinite}$ similar to $h \\leq 0 \\iff h~\\text{negative}$\n",
      "\n",
      "There are several ways to determine whether a matrix is positive definite.\n",
      "\n",
      "The first involves evaluating the leading principal minors. The minors are the determinants of matrices obtained by removing a certain number of rows and columns. If the rows and columns which are removed have the same indices, the minor is called a principal minor. If the rows and columns removed are also from the beginning to some point $i$, it is known as a leading minor."
     ]
    },
    {
     "cell_type": "code",
     "collapsed": false,
     "input": [
      "def leading_minors(A):\n",
      "    rows, cols = A.shape\n",
      "    return [A[:n+1, :n+1].det() for n in range(rows)]"
     ],
     "language": "python",
     "metadata": {},
     "outputs": [],
     "prompt_number": null
    },
    {
     "cell_type": "code",
     "collapsed": false,
     "input": [
      "leading_minors(H2)"
     ],
     "language": "python",
     "metadata": {},
     "outputs": [],
     "prompt_number": null
    },
    {
     "cell_type": "code",
     "collapsed": false,
     "input": [
      "def posdef_minor(A):\n",
      "    return all(m >= 0 for m in leading_minors(A))"
     ],
     "language": "python",
     "metadata": {},
     "outputs": [],
     "prompt_number": null
    },
    {
     "cell_type": "code",
     "collapsed": false,
     "input": [
      "posdef_minor(H2)"
     ],
     "language": "python",
     "metadata": {},
     "outputs": [],
     "prompt_number": null
    },
    {
     "cell_type": "markdown",
     "metadata": {},
     "source": [
      "The second method is to check if all the eigenvalues are positive"
     ]
    },
    {
     "cell_type": "code",
     "collapsed": false,
     "input": [
      "H2"
     ],
     "language": "python",
     "metadata": {},
     "outputs": [],
     "prompt_number": null
    },
    {
     "cell_type": "code",
     "collapsed": false,
     "input": [
      "EV = H2.eigenvals()\n",
      "EVs = [N(i,3) for i in EV]\n",
      "EVs"
     ],
     "language": "python",
     "metadata": {
      "scrolled": true
     },
     "outputs": [],
     "prompt_number": null
    },
    {
     "cell_type": "code",
     "collapsed": false,
     "input": [
      "def posdef_eigen(A):\n",
      "    return all(EV >= 0 for EV in A.eigenvals())"
     ],
     "language": "python",
     "metadata": {},
     "outputs": [],
     "prompt_number": null
    },
    {
     "cell_type": "code",
     "collapsed": false,
     "input": [
      "posdef_eigen(H2)"
     ],
     "language": "python",
     "metadata": {},
     "outputs": [],
     "prompt_number": null
    },
    {
     "cell_type": "markdown",
     "metadata": {},
     "source": [
      "Another convenient way to check if the matrix is positive definite is to attempt a Cholesky decomposition, if it succeeds the matrix is positive definite"
     ]
    },
    {
     "cell_type": "code",
     "collapsed": false,
     "input": [
      "H2.cholesky()"
     ],
     "language": "python",
     "metadata": {},
     "outputs": [],
     "prompt_number": null
    },
    {
     "cell_type": "markdown",
     "metadata": {},
     "source": [
      "So what's the difference between these methods? They will all work, but some take longer than others."
     ]
    },
    {
     "cell_type": "code",
     "collapsed": false,
     "input": [
      "timeit('posdef_minors(H2)')"
     ],
     "language": "python",
     "metadata": {},
     "outputs": [],
     "prompt_number": null
    },
    {
     "cell_type": "code",
     "collapsed": false,
     "input": [
      "timeit('posdef_eigen(H2)')"
     ],
     "language": "python",
     "metadata": {},
     "outputs": [],
     "prompt_number": null
    },
    {
     "cell_type": "code",
     "collapsed": false,
     "input": [
      "timeit(H2.cholesky())"
     ],
     "language": "python",
     "metadata": {},
     "outputs": [],
     "prompt_number": null
    },
    {
     "cell_type": "markdown",
     "metadata": {
      "collapsed": true
     },
     "source": [
      "Calculating the minors and the eigenvalues require approximately the same amounts of time, however the Cholesky decomposition takes significantly longer."
     ]
    }
   ],
   "metadata": {}
  }
 ]
}