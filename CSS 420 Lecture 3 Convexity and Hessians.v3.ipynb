{
 "metadata": {
  "kernelspec": {
   "display_name": "Python 2",
   "language": "python",
   "name": "python2"
  },
  "language_info": {
   "codemirror_mode": {
    "name": "ipython",
    "version": 2
   },
   "file_extension": ".py",
   "mimetype": "text/x-python",
   "name": "python",
   "nbconvert_exporter": "python",
   "pygments_lexer": "ipython2",
   "version": "2.7.2"
  },
  "name": ""
 },
 "nbformat": 3,
 "nbformat_minor": 0,
 "worksheets": [
  {
   "cells": [
    {
     "cell_type": "markdown",
     "metadata": {},
     "source": [
      "Lecture 3\n",
      "===========================================================================\n",
      "\n",
      "Convexity and Hessians\n",
      "------------"
     ]
    },
    {
     "cell_type": "code",
     "collapsed": false,
     "input": [
      "from sympy import *\n",
      "init_printing()"
     ],
     "language": "python",
     "metadata": {},
     "outputs": [],
     "prompt_number": null
    },
    {
     "cell_type": "markdown",
     "metadata": {},
     "source": [
      "Let's find the derivatives of a few functions"
     ]
    },
    {
     "cell_type": "code",
     "collapsed": false,
     "input": [
      "x = Symbol('x', real=True)\n",
      "functions = (('a', 3*x**2),\n",
      "             ('b', 2*x),\n",
      "             ('c', -5*x**2),\n",
      "             ('d', 2*x**2 - x**3))\n",
      "for (c, f) in functions:\n",
      "    derivative = diff(f, x, 2)\n",
      "    positivex = solve(derivative>0, x)\n",
      "    print c, str(derivative), positivex"
     ],
     "language": "python",
     "metadata": {},
     "outputs": [],
     "prompt_number": null
    },
    {
     "cell_type": "markdown",
     "metadata": {},
     "source": [
      "We can also evaluate symbolic expressions of multiple variables"
     ]
    },
    {
     "cell_type": "code",
     "collapsed": false,
     "input": [
      "x1, x2 = symbols('x1 x2')\n",
      "f = 2*x1**3 - 3*x1*x2 + 2*x2**3\n",
      "f"
     ],
     "language": "python",
     "metadata": {},
     "outputs": [],
     "prompt_number": null
    },
    {
     "cell_type": "markdown",
     "metadata": {},
     "source": [
      "For example f(1,2)"
     ]
    },
    {
     "cell_type": "code",
     "collapsed": false,
     "input": [
      "f.subs({x1: x + 2, x2: 2})"
     ],
     "language": "python",
     "metadata": {},
     "outputs": [],
     "prompt_number": null
    },
    {
     "cell_type": "markdown",
     "metadata": {},
     "source": [
      "Digression 1: dictionaries\n",
      "===============\n",
      "\n",
      "You should be familiar with lists:"
     ]
    },
    {
     "cell_type": "code",
     "collapsed": true,
     "input": [
      "lst = [1, 2, 3]"
     ],
     "language": "python",
     "metadata": {},
     "outputs": [],
     "prompt_number": null
    },
    {
     "cell_type": "markdown",
     "metadata": {},
     "source": [
      "We can retrieve elements from the list by _indexing_ it"
     ]
    },
    {
     "cell_type": "code",
     "collapsed": false,
     "input": [
      "lst[1]"
     ],
     "language": "python",
     "metadata": {},
     "outputs": [],
     "prompt_number": null
    },
    {
     "cell_type": "markdown",
     "metadata": {},
     "source": [
      "A dictionary gives us a container like a list, but the indexes can be much more general, not just numbers but strings or sympy variables (and a whole host of other types)"
     ]
    },
    {
     "cell_type": "code",
     "collapsed": true,
     "input": [
      "dic = {'a': 100, 2: 45, 100: 45}"
     ],
     "language": "python",
     "metadata": {},
     "outputs": [],
     "prompt_number": null
    },
    {
     "cell_type": "code",
     "collapsed": false,
     "input": [
      "dic['a']"
     ],
     "language": "python",
     "metadata": {},
     "outputs": [],
     "prompt_number": null
    },
    {
     "cell_type": "markdown",
     "metadata": {},
     "source": [
      "When we solve an equation in sympy, the result is a dictionary"
     ]
    },
    {
     "cell_type": "code",
     "collapsed": false,
     "input": [
      "eqs = [x1 - 3 - x2, \n",
      "       x2 + x1]\n",
      "ans = solve(eqs, [x1, x2])"
     ],
     "language": "python",
     "metadata": {},
     "outputs": [],
     "prompt_number": null
    },
    {
     "cell_type": "code",
     "collapsed": false,
     "input": [
      "type(ans)"
     ],
     "language": "python",
     "metadata": {},
     "outputs": [],
     "prompt_number": null
    },
    {
     "cell_type": "markdown",
     "metadata": {},
     "source": [
      "Digression 2: List comprehensions\n",
      "================\n",
      "\n",
      "The following pattern is very common in code, where we start with an empty list and append to it by processing another list."
     ]
    },
    {
     "cell_type": "code",
     "collapsed": false,
     "input": [
      "v = []\n",
      "for i in [2, 1, 3, 4]:\n",
      "    if i > 2:\n",
      "        v.append(i**2)\n",
      "v"
     ],
     "language": "python",
     "metadata": {},
     "outputs": [],
     "prompt_number": null
    },
    {
     "cell_type": "markdown",
     "metadata": {},
     "source": [
      "In fact, it is so common that there is a shorthand in Python which does exactly that called a _list comprehension_"
     ]
    },
    {
     "cell_type": "code",
     "collapsed": false,
     "input": [
      "[i**2 for i in [2, 1, 3, 4] if i > 2]"
     ],
     "language": "python",
     "metadata": {},
     "outputs": [],
     "prompt_number": null
    },
    {
     "cell_type": "markdown",
     "metadata": {},
     "source": [
      "This gives us an easy way to substitute the solution of our previous set of equtions into each equation:"
     ]
    },
    {
     "cell_type": "code",
     "collapsed": false,
     "input": [
      "[eq.subs(ans) for eq in eqs]"
     ],
     "language": "python",
     "metadata": {},
     "outputs": [],
     "prompt_number": null
    },
    {
     "cell_type": "markdown",
     "metadata": {},
     "source": [
      "And take the partial derivative w.r.t. each variable"
     ]
    },
    {
     "cell_type": "code",
     "collapsed": false,
     "input": [
      "variables = [x1, x2]\n",
      "df = [f.diff(variable, 1) for variable in variables]\n",
      "df"
     ],
     "language": "python",
     "metadata": {
      "scrolled": true
     },
     "outputs": [],
     "prompt_number": null
    },
    {
     "cell_type": "markdown",
     "metadata": {},
     "source": [
      "We can use this to build a function to calculate the gradient vector:"
     ]
    },
    {
     "cell_type": "code",
     "collapsed": false,
     "input": [
      "f.subs({x1: x + 2, x2: 2})"
     ],
     "language": "python",
     "metadata": {},
     "outputs": [],
     "prompt_number": null
    },
    {
     "cell_type": "code",
     "collapsed": true,
     "input": [
      "def gradient(f, variables):\n",
      "    return Matrix([f.diff(variable) for variable in variables])"
     ],
     "language": "python",
     "metadata": {},
     "outputs": [],
     "prompt_number": null
    },
    {
     "cell_type": "code",
     "collapsed": false,
     "input": [
      "df = gradient(f, variables)\n",
      "df"
     ],
     "language": "python",
     "metadata": {},
     "outputs": [],
     "prompt_number": null
    },
    {
     "cell_type": "markdown",
     "metadata": {},
     "source": [
      "Second order derivative"
     ]
    },
    {
     "cell_type": "code",
     "collapsed": false,
     "input": [
      "df2 = [f.diff(variable, 2) for variable in variables]\n",
      "df2"
     ],
     "language": "python",
     "metadata": {},
     "outputs": [],
     "prompt_number": null
    },
    {
     "cell_type": "markdown",
     "metadata": {},
     "source": [
      "Partial derivative w.r.t. one variable then the next"
     ]
    },
    {
     "cell_type": "code",
     "collapsed": false,
     "input": [
      "dfx1x2 = [df[i].diff(variable) for i, variable in enumerate(reversed(variables))]\n",
      "dfx1x2"
     ],
     "language": "python",
     "metadata": {},
     "outputs": [],
     "prompt_number": null
    },
    {
     "cell_type": "markdown",
     "metadata": {},
     "source": [
      "Remember the Hessian is the matrix of repeated partial differentials:\n",
      "\n",
      "$$\\begin{bmatrix} \\frac{\\partial^2 f}{\\partial x_{1}^2} & \\frac{\\partial^2 f}{\\partial x_{1} \\partial x_{2}} \\\\ \\frac{\\partial^2 f}{\\partial x_{2} \\partial x_{1}} & \\frac{\\partial^2 f}{\\partial x_{2}^2} \\end{bmatrix}$$"
     ]
    },
    {
     "cell_type": "markdown",
     "metadata": {},
     "source": [
      "Luckily, sympy supplies a function to calculate the Hessian"
     ]
    },
    {
     "cell_type": "code",
     "collapsed": true,
     "input": [
      "F = Function('F')"
     ],
     "language": "python",
     "metadata": {},
     "outputs": [],
     "prompt_number": null
    },
    {
     "cell_type": "code",
     "collapsed": false,
     "input": [
      "hessian(F(x1, x2), variables)"
     ],
     "language": "python",
     "metadata": {},
     "outputs": [],
     "prompt_number": null
    },
    {
     "cell_type": "code",
     "collapsed": false,
     "input": [
      "H = hessian(f, variables)\n",
      "H"
     ],
     "language": "python",
     "metadata": {},
     "outputs": [],
     "prompt_number": null
    },
    {
     "cell_type": "markdown",
     "metadata": {},
     "source": [
      "We can still evaluate these expressions at a specific point"
     ]
    },
    {
     "cell_type": "code",
     "collapsed": false,
     "input": [
      "H.subs({x1: 1, x2: 2})"
     ],
     "language": "python",
     "metadata": {},
     "outputs": [],
     "prompt_number": null
    },
    {
     "cell_type": "code",
     "collapsed": false,
     "input": [
      "f2 = 2*x1**2 + 2*x1*x2 + 1.5*x2**2 + 7*x1 + 8*x2 + 24\n",
      "H2 = hessian(f2, [x1, x2])\n",
      "H2"
     ],
     "language": "python",
     "metadata": {},
     "outputs": [],
     "prompt_number": null
    },
    {
     "cell_type": "markdown",
     "metadata": {},
     "source": [
      "Positive definiteness is the matrix analogue to positiveness in scalars. Observe these definitions:\n",
      "\n",
      "$x^THx \\geq 0 \\forall x \\iff H~\\text{positive semidefinite}$ similar to $h \\geq 0 \\iff h~\\text{positive}$\n",
      "\n",
      "$x^THx > 0 \\forall x \\neq 0 \\iff H~\\text{positive definite}$ similar to $h > 0 \\iff h~\\text{strictly positive}$\n",
      "\n",
      "$x^THx < 0 \\forall x \\neq 0 \\iff H~\\text{negative definite}$ similar to $h < 0 \\iff h~\\text{strictly negative}$\n",
      "\n",
      "$x^THx \\leq 0 \\forall x \\iff H~\\text{positive semidefinite}$ similar to $h \\leq 0 \\iff h~\\text{negative}$\n",
      "\n",
      "There are several ways to determine whether a matrix is positive definite.\n",
      "\n",
      "The first involves evaluating the leading principal minors. The minors are the determinants of matrices obtained by removing a certain number of rows and columns. If the rows and columns which are removed have the same indices, the minor is called a principal minor. If the rows and columns removed are also from the beginning to some point $i$, it is known as a leading minor."
     ]
    },
    {
     "cell_type": "code",
     "collapsed": false,
     "input": [
      "def leading_minors(A):\n",
      "    rows, cols = A.shape\n",
      "    return (A[:n+1, :n+1].det() for n in range(rows))"
     ],
     "language": "python",
     "metadata": {},
     "outputs": [],
     "prompt_number": null
    },
    {
     "cell_type": "code",
     "collapsed": false,
     "input": [
      "list(leading_minors(H2))"
     ],
     "language": "python",
     "metadata": {},
     "outputs": [],
     "prompt_number": null
    },
    {
     "cell_type": "code",
     "collapsed": false,
     "input": [
      "H2.berkowitz_minors()"
     ],
     "language": "python",
     "metadata": {},
     "outputs": [],
     "prompt_number": null
    },
    {
     "cell_type": "code",
     "collapsed": false,
     "input": [
      "def posdef_minor(A):\n",
      "    return all(m >= 0 for m in leading_minors(A))"
     ],
     "language": "python",
     "metadata": {},
     "outputs": [],
     "prompt_number": null
    },
    {
     "cell_type": "code",
     "collapsed": false,
     "input": [
      "posdef_minor(H2)"
     ],
     "language": "python",
     "metadata": {},
     "outputs": [],
     "prompt_number": null
    },
    {
     "cell_type": "markdown",
     "metadata": {},
     "source": [
      "The second method is to check if all the eigenvalues are positive"
     ]
    },
    {
     "cell_type": "code",
     "collapsed": false,
     "input": [
      "H2"
     ],
     "language": "python",
     "metadata": {},
     "outputs": [],
     "prompt_number": null
    },
    {
     "cell_type": "code",
     "collapsed": false,
     "input": [
      "EV = H2.eigenvals()\n",
      "EVs = [N(i,3) for i in EV]\n",
      "EVs"
     ],
     "language": "python",
     "metadata": {
      "scrolled": true
     },
     "outputs": [],
     "prompt_number": null
    },
    {
     "cell_type": "code",
     "collapsed": false,
     "input": [
      "def posdef_eigen(A):\n",
      "    return all(EV >= 0 for EV in A.eigenvals())"
     ],
     "language": "python",
     "metadata": {},
     "outputs": [],
     "prompt_number": null
    },
    {
     "cell_type": "code",
     "collapsed": false,
     "input": [
      "posdef_eigen(H2)"
     ],
     "language": "python",
     "metadata": {},
     "outputs": [],
     "prompt_number": null
    },
    {
     "cell_type": "markdown",
     "metadata": {},
     "source": [
      "So what's the difference between these methods? They will all work, but some take longer than others."
     ]
    },
    {
     "cell_type": "code",
     "collapsed": true,
     "input": [
      "size = 20"
     ],
     "language": "python",
     "metadata": {},
     "outputs": [],
     "prompt_number": null
    },
    {
     "cell_type": "code",
     "collapsed": false,
     "input": [
      "%%timeit\n",
      "H2 = randMatrix(size)\n",
      "posdef_minor(H2)"
     ],
     "language": "python",
     "metadata": {},
     "outputs": [],
     "prompt_number": null
    },
    {
     "cell_type": "code",
     "collapsed": false,
     "input": [
      "%%timeit\n",
      "H2 = randMatrix(size)\n",
      "posdef_eigen(H2)"
     ],
     "language": "python",
     "metadata": {},
     "outputs": [],
     "prompt_number": null
    }
   ],
   "metadata": {}
  }
 ]
}
