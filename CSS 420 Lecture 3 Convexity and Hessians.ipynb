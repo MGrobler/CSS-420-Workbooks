{
 "cells": [
  {
   "cell_type": "markdown",
   "metadata": {},
   "source": [
    "Lecture 3\n",
    "===========================================================================\n",
    "\n",
    "Convexity and Hessians\n",
    "------------"
   ]
  },
  {
   "cell_type": "code",
   "execution_count": null,
   "metadata": {
    "collapsed": false
   },
   "outputs": [],
   "source": [
    "from sympy import *\n",
    "init_printing()"
   ]
  },
  {
   "cell_type": "markdown",
   "metadata": {},
   "source": [
    "Let's find the derivatives of a few functions"
   ]
  },
  {
   "cell_type": "code",
   "execution_count": null,
   "metadata": {
    "collapsed": false
   },
   "outputs": [],
   "source": [
    "x = Symbol('x', real=True)\n",
    "functions = (('a', 3*x**2),\n",
    "             ('b', 2*x),\n",
    "             ('c', -5*x**2),\n",
    "             ('d', 2*x**2 - x**3))\n",
    "for (c, f) in functions:\n",
    "    derivative = diff(f, x, 2)\n",
    "    positivex = solve(derivative>0, x)\n",
    "    print c, str(derivative), positivex"
   ]
  },
  {
   "cell_type": "markdown",
   "metadata": {},
   "source": [
    "We can also evaluate symbolic expressions of multiple variables"
   ]
  },
  {
   "cell_type": "code",
   "execution_count": null,
   "metadata": {
    "collapsed": false
   },
   "outputs": [],
   "source": [
    "x1, x2 = symbols('x1 x2')\n",
    "f = 2*x1**3 - 3*x1*x2 + 2*x2**3\n",
    "f"
   ]
  },
  {
   "cell_type": "markdown",
   "metadata": {},
   "source": [
    "For example f(1,2)"
   ]
  },
  {
   "cell_type": "code",
   "execution_count": null,
   "metadata": {
    "collapsed": false
   },
   "outputs": [],
   "source": [
    "f.subs({x1: x + 2, x2: 2})"
   ]
  },
  {
   "cell_type": "markdown",
   "metadata": {},
   "source": [
    "Digression 1: dictionaries\n",
    "===============\n",
    "\n",
    "You should be familiar with lists:"
   ]
  },
  {
   "cell_type": "code",
   "execution_count": null,
   "metadata": {
    "collapsed": true
   },
   "outputs": [],
   "source": [
    "lst = [1, 2, 3]"
   ]
  },
  {
   "cell_type": "markdown",
   "metadata": {},
   "source": [
    "We can retrieve elements from the list by _indexing_ it"
   ]
  },
  {
   "cell_type": "code",
   "execution_count": null,
   "metadata": {
    "collapsed": false
   },
   "outputs": [],
   "source": [
    "lst[1]"
   ]
  },
  {
   "cell_type": "markdown",
   "metadata": {},
   "source": [
    "A dictionary gives us a container like a list, but the indexes can be much more general, not just numbers but strings or sympy variables (and a whole host of other types)"
   ]
  },
  {
   "cell_type": "code",
   "execution_count": null,
   "metadata": {
    "collapsed": true
   },
   "outputs": [],
   "source": [
    "dic = {'a': 100, 2: 45, 100: 45}"
   ]
  },
  {
   "cell_type": "code",
   "execution_count": null,
   "metadata": {
    "collapsed": false
   },
   "outputs": [],
   "source": [
    "dic['a']"
   ]
  },
  {
   "cell_type": "markdown",
   "metadata": {},
   "source": [
    "When we solve and equation in sympy, the result is a dictionary"
   ]
  },
  {
   "cell_type": "code",
   "execution_count": null,
   "metadata": {
    "collapsed": false
   },
   "outputs": [],
   "source": [
    "eqs = [x1 - 3 - x2, \n",
    "       x2 + x1]\n",
    "ans = solve(eqs, [x1, x2])"
   ]
  },
  {
   "cell_type": "code",
   "execution_count": null,
   "metadata": {
    "collapsed": false
   },
   "outputs": [],
   "source": [
    "type(ans)"
   ]
  },
  {
   "cell_type": "markdown",
   "metadata": {},
   "source": [
    "Digression 2: List comprehensions\n",
    "================\n",
    "\n",
    "The following pattern is very common in code, where we start with an empty list and append to it by processing another list."
   ]
  },
  {
   "cell_type": "code",
   "execution_count": null,
   "metadata": {
    "collapsed": false
   },
   "outputs": [],
   "source": [
    "v = []\n",
    "for i in [2, 1, 3, 4]:\n",
    "    if i > 2:\n",
    "        v.append(i**2)\n",
    "v"
   ]
  },
  {
   "cell_type": "markdown",
   "metadata": {},
   "source": [
    "In fact, it is so common that there is a shorthand in Python which does exactly that called a _list comprehension_"
   ]
  },
  {
   "cell_type": "code",
   "execution_count": null,
   "metadata": {
    "collapsed": false
   },
   "outputs": [],
   "source": [
    "[i**2 for i in [2, 1, 3, 4] if i > 2]"
   ]
  },
  {
   "cell_type": "markdown",
   "metadata": {},
   "source": [
    "This gives us an easy way to substitute the solution of our previous set of equtions into each equation:"
   ]
  },
  {
   "cell_type": "code",
   "execution_count": null,
   "metadata": {
    "collapsed": false
   },
   "outputs": [],
   "source": [
    "[eq.subs(ans) for eq in eqs]"
   ]
  },
  {
   "cell_type": "markdown",
   "metadata": {},
   "source": [
    "And take the partial derivative w.r.t. each variable"
   ]
  },
  {
   "cell_type": "code",
   "execution_count": null,
   "metadata": {
    "collapsed": false,
    "scrolled": true
   },
   "outputs": [],
   "source": [
    "variables = [x1, x2]\n",
    "df = [f.diff(variable, 1) for variable in variables]\n",
    "df"
   ]
  },
  {
   "cell_type": "markdown",
   "metadata": {},
   "source": [
    "We can use this to build a function to calculate the gradient vector:"
   ]
  },
  {
   "cell_type": "code",
   "execution_count": null,
   "metadata": {
    "collapsed": false
   },
   "outputs": [],
   "source": [
    "f.subs({x1: x + 2, x2: 2})"
   ]
  },
  {
   "cell_type": "code",
   "execution_count": null,
   "metadata": {
    "collapsed": true
   },
   "outputs": [],
   "source": [
    "def gradient(f, variables):\n",
    "    return Matrix([f.diff(variable) for variable in variables])"
   ]
  },
  {
   "cell_type": "code",
   "execution_count": null,
   "metadata": {
    "collapsed": false
   },
   "outputs": [],
   "source": [
    "gradient(f, variables)"
   ]
  },
  {
   "cell_type": "markdown",
   "metadata": {},
   "source": [
    "Second order derivative"
   ]
  },
  {
   "cell_type": "code",
   "execution_count": null,
   "metadata": {
    "collapsed": false
   },
   "outputs": [],
   "source": [
    "df2 = [f.diff(variable, 2) for variable in variables]\n",
    "df2"
   ]
  },
  {
   "cell_type": "markdown",
   "metadata": {},
   "source": [
    "Partial derivative w.r.t. one variable then the next"
   ]
  },
  {
   "cell_type": "code",
   "execution_count": null,
   "metadata": {
    "collapsed": false
   },
   "outputs": [],
   "source": [
    "dfx1x2 = [df[i].diff(variable) for variable in reversed(variables)]\n",
    "dfx1x2"
   ]
  },
  {
   "cell_type": "markdown",
   "metadata": {},
   "source": [
    "Remember the Hessian is the matrix of repeated partial differentials:\n",
    "\n",
    "$$\\begin{bmatrix} \\frac{\\partial^2 f}{\\partial x_{1}^2} & \\frac{\\partial^2 f}{\\partial x_{1} \\partial x_{2}} \\\\ \\frac{\\partial^2 f}{\\partial x_{2} \\partial x_{1}} & \\frac{\\partial^2 f}{\\partial x_{2}^2} \\end{bmatrix}$$"
   ]
  },
  {
   "cell_type": "markdown",
   "metadata": {},
   "source": [
    "Luckily, sympy supplies a function to calculate the Hessian"
   ]
  },
  {
   "cell_type": "code",
   "execution_count": null,
   "metadata": {
    "collapsed": false
   },
   "outputs": [],
   "source": [
    "H = hessian(f, variables)\n",
    "H"
   ]
  },
  {
   "cell_type": "markdown",
   "metadata": {},
   "source": [
    "We can still evaluate these expressions at a specific point"
   ]
  },
  {
   "cell_type": "code",
   "execution_count": null,
   "metadata": {
    "collapsed": false
   },
   "outputs": [],
   "source": [
    "H.subs({x1: 1, x2: 2})"
   ]
  },
  {
   "cell_type": "code",
   "execution_count": null,
   "metadata": {
    "collapsed": false
   },
   "outputs": [],
   "source": [
    "f2 = 2*x1**2 + 2*x1*x2 + 1.5*x2**2 + 7*x1 + 8*x2 + 24\n",
    "H2 = hessian(f2, [x1, x2])\n",
    "H2"
   ]
  },
  {
   "cell_type": "markdown",
   "metadata": {},
   "source": [
    "Positive definiteness is the matrix analogue to positiveness in scalars. Observe these definitions:\n",
    "\n",
    "$x^THx \\geq 0 \\forall x \\iff H~\\text{positive semidefinite}$ similar to $h \\geq 0 \\iff h~\\text{positive}$\n",
    "\n",
    "$x^THx > 0 \\forall x \\neq 0 \\iff H~\\text{positive definite}$ similar to $h > 0 \\iff h~\\text{strictly positive}$\n",
    "\n",
    "$x^THx < 0 \\forall x \\neq 0 \\iff H~\\text{negative definite}$ similar to $h < 0 \\iff h~\\text{strictly negative}$\n",
    "\n",
    "$x^THx \\leq 0 \\forall x \\iff H~\\text{positive semidefinite}$ similar to $h \\leq 0 \\iff h~\\text{negative}$\n",
    "\n",
    "There are several ways to determine whether a matrix is positive definite.\n",
    "\n",
    "The first involves evaluating the leading principal minors. The minors are the determinants of matrices obtained by removing a certain number of rows and columns. If the rows and columns which are removed have the same indices, the minor is called a principal minor. If the rows and columns removed are also from the beginning to some point $i$, it is known as a leading minor."
   ]
  },
  {
   "cell_type": "code",
   "execution_count": null,
   "metadata": {
    "collapsed": false
   },
   "outputs": [],
   "source": [
    "def leading_minors(A):\n",
    "    rows, cols = A.shape\n",
    "    return (A[:n+1, :n+1].det() for n in range(rows))"
   ]
  },
  {
   "cell_type": "code",
   "execution_count": null,
   "metadata": {
    "collapsed": false
   },
   "outputs": [],
   "source": [
    "list(leading_minors(H2))"
   ]
  },
  {
   "cell_type": "code",
   "execution_count": null,
   "metadata": {
    "collapsed": false
   },
   "outputs": [],
   "source": [
    "H2.berkowitz_minors()"
   ]
  },
  {
   "cell_type": "code",
   "execution_count": null,
   "metadata": {
    "collapsed": false
   },
   "outputs": [],
   "source": [
    "def posdef_minor(A):\n",
    "    return all(m >= 0 for m in leading_minors(A))"
   ]
  },
  {
   "cell_type": "code",
   "execution_count": null,
   "metadata": {
    "collapsed": false
   },
   "outputs": [],
   "source": [
    "posdef_minor(H2)"
   ]
  },
  {
   "cell_type": "markdown",
   "metadata": {},
   "source": [
    "The second method is to check if all the eigenvalues are positive"
   ]
  },
  {
   "cell_type": "code",
   "execution_count": null,
   "metadata": {
    "collapsed": false
   },
   "outputs": [],
   "source": [
    "H2"
   ]
  },
  {
   "cell_type": "code",
   "execution_count": null,
   "metadata": {
    "collapsed": false,
    "scrolled": true
   },
   "outputs": [],
   "source": [
    "EV = H2.eigenvals()\n",
    "EVs = [N(i,3) for i in EV]\n",
    "EVs"
   ]
  },
  {
   "cell_type": "code",
   "execution_count": null,
   "metadata": {
    "collapsed": false
   },
   "outputs": [],
   "source": [
    "def posdef_eigen(A):\n",
    "    return all(EV >= 0 for EV in A.eigenvals())"
   ]
  },
  {
   "cell_type": "code",
   "execution_count": null,
   "metadata": {
    "collapsed": false
   },
   "outputs": [],
   "source": [
    "posdef_eigen(H2)"
   ]
  },
  {
   "cell_type": "markdown",
   "metadata": {},
   "source": [
    "So what's the difference between these methods? They will all work, but some take longer than others."
   ]
  },
  {
   "cell_type": "code",
   "execution_count": null,
   "metadata": {
    "collapsed": true
   },
   "outputs": [],
   "source": [
    "size = 20"
   ]
  },
  {
   "cell_type": "code",
   "execution_count": null,
   "metadata": {
    "collapsed": false
   },
   "outputs": [],
   "source": [
    "%%timeit\n",
    "H2 = randMatrix(size)\n",
    "posdef_minor(H2)"
   ]
  },
  {
   "cell_type": "code",
   "execution_count": null,
   "metadata": {
    "collapsed": false
   },
   "outputs": [],
   "source": [
    "%%timeit\n",
    "H2 = randMatrix(size)\n",
    "posdef_eigen(H2)"
   ]
  }
 ],
 "metadata": {
  "kernelspec": {
   "display_name": "Python 2",
   "language": "python",
   "name": "python2"
  },
  "language_info": {
   "codemirror_mode": {
    "name": "ipython",
    "version": 2
   },
   "file_extension": ".py",
   "mimetype": "text/x-python",
   "name": "python",
   "nbconvert_exporter": "python",
   "pygments_lexer": "ipython2",
   "version": "2.7.2"
  }
 },
 "nbformat": 4,
 "nbformat_minor": 0
}
