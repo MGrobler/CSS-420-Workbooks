{
 "metadata": {
  "kernelspec": {
   "display_name": "Python 2",
   "language": "python",
   "name": "python2"
  },
  "language_info": {
   "codemirror_mode": {
    "name": "ipython",
    "version": 2
   },
   "file_extension": ".py",
   "mimetype": "text/x-python",
   "name": "python",
   "nbconvert_exporter": "python",
   "pygments_lexer": "ipython2",
   "version": "2.7.2"
  },
  "name": ""
 },
 "nbformat": 3,
 "nbformat_minor": 0,
 "worksheets": [
  {
   "cells": [
    {
     "cell_type": "markdown",
     "metadata": {},
     "source": [
      "Lecture 4\n",
      "===========================================================================\n",
      "\n",
      "One dimensional unconstrained optimisation\n",
      "------------"
     ]
    },
    {
     "cell_type": "code",
     "collapsed": false,
     "input": [
      "from sympy import *\n",
      "init_printing()\n",
      "\n",
      "import matplotlib.pyplot as plt\n",
      "import numpy as np\n",
      "\n",
      "%matplotlib inline"
     ],
     "language": "python",
     "metadata": {},
     "outputs": [],
     "prompt_number": 7
    },
    {
     "cell_type": "markdown",
     "metadata": {},
     "source": [
      "Bracketing\n",
      "------------\n",
      "We seek an interval on which the minimum occurs. We search with acceleration, doubling the interval size each time until the function no longer descends."
     ]
    },
    {
     "cell_type": "code",
     "collapsed": false,
     "input": [
      "x = var('x')\n",
      "f = (x - 100)**2\n",
      "xint = [0, 1] # initial interval\n",
      "delta = 1\n",
      "k = 1\n",
      "while f.subs(x,xint[k]) <  f.subs(x,xint[k-1]):\n",
      "    xint.append(xint[k] + delta*2**k)\n",
      "    k = k + 1\n",
      "    \n",
      "for c1,c2 in zip(xint, [f.subs(x,xi) for xi in xint]):\n",
      "    print \"%-9.8s %0.8s\" % (c1,c2)"
     ],
     "language": "python",
     "metadata": {
      "scrolled": true
     },
     "outputs": [
      {
       "output_type": "stream",
       "stream": "stdout",
       "text": [
        "0         10000\n",
        "1         9801\n",
        "3         9409\n",
        "7         8649\n",
        "15        7225\n",
        "31        4761\n",
        "63        1369\n",
        "127       729\n",
        "255       24025\n"
       ]
      }
     ],
     "prompt_number": 8
    },
    {
     "cell_type": "markdown",
     "metadata": {},
     "source": [
      "The minimum must lie between the third last and last x value in the table above."
     ]
    },
    {
     "cell_type": "code",
     "collapsed": false,
     "input": [
      "fval = [f.subs(x,xi) for xi in xint]\n",
      "evalfunc = lambdify(x, f, modules=['numpy'])\n",
      "xval = np.linspace(0.0, 300.0, 1000)\n",
      "plt.plot(xval, evalfunc(xval))\n",
      "plt.scatter(xint, fval, s=50, color='r')\n",
      "plt.xlim(0,300)\n",
      "plt.show()"
     ],
     "language": "python",
     "metadata": {
      "scrolled": true
     },
     "outputs": [
      {
       "metadata": {},
       "output_type": "display_data",
       "png": "[encoded data removed]",
       "text": [
        "<matplotlib.figure.Figure at 0x10ca41b90>"
       ]
      }
     ],
     "prompt_number": 9
    },
    {
     "cell_type": "markdown",
     "metadata": {},
     "source": [
      "Now we restart the search on the new interval"
     ]
    },
    {
     "cell_type": "code",
     "collapsed": false,
     "input": [
      "xint = [xint[-3],xint[-3]+1] # initial interval\n",
      "delta = 1\n",
      "k = 1\n",
      "while f.subs(x,xint[k]) <  f.subs(x,xint[k-1]):\n",
      "    xint.append(xint[k] + delta*2**k)\n",
      "    k = k + 1\n",
      "    \n",
      "fval = [f.subs(x,xi) for xi in xint]\n",
      "for c1,c2 in zip(xint, fval):\n",
      "    print \"%-9s %s\" % (c1,c2)"
     ],
     "language": "python",
     "metadata": {},
     "outputs": [
      {
       "output_type": "stream",
       "stream": "stdout",
       "text": [
        "63        1369\n",
        "64        1296\n",
        "66        1156\n",
        "70        900\n",
        "78        484\n",
        "94        36\n",
        "126       676\n"
       ]
      }
     ],
     "prompt_number": 10
    },
    {
     "cell_type": "markdown",
     "metadata": {},
     "source": [
      "Now the minimum is between 85 and 109, to further refine the search we can to reduce the intervals by reducing delta"
     ]
    },
    {
     "cell_type": "code",
     "collapsed": false,
     "input": [
      "evalfunc = lambdify(x, f, modules=['numpy'])\n",
      "xval = np.linspace(0.0, 300.0, 1000)\n",
      "plt.plot(xval, evalfunc(xval))\n",
      "plt.scatter(xint, fval, s=50, color='r')\n",
      "plt.xlim(0,300)\n",
      "plt.show()"
     ],
     "language": "python",
     "metadata": {},
     "outputs": [
      {
       "metadata": {},
       "output_type": "display_data",
       "png": "[encoded data removed]",
       "text": [
        "<matplotlib.figure.Figure at 0x10c918f50>"
       ]
      }
     ],
     "prompt_number": 11
    },
    {
     "cell_type": "markdown",
     "metadata": {},
     "source": [
      "Newton's Method\n",
      "------------"
     ]
    },
    {
     "cell_type": "code",
     "collapsed": false,
     "input": [
      "x = var('x')\n",
      "f = x**4 - x + 1\n",
      "fd = f.diff(x)\n",
      "fdd = f.diff(x, 2)\n",
      "fd, fdd"
     ],
     "language": "python",
     "metadata": {},
     "outputs": [
      {
       "latex": [
        "$$\\left ( 4 x^{3} - 1, \\quad 12 x^{2}\\right )$$"
       ],
       "metadata": {},
       "output_type": "pyout",
       "png": "[encoded data removed]",
       "prompt_number": 12,
       "text": [
        "\u239b   3          2\u239e\n",
        "\u239d4\u22c5x  - 1, 12\u22c5x \u23a0"
       ]
      }
     ],
     "prompt_number": 12
    },
    {
     "cell_type": "code",
     "collapsed": false,
     "input": [
      "N = 10\n",
      "xs = [3.0]\n",
      "for i in range(N-1): # For convenience we do a fixed number of points\n",
      "    xs.append(xs[-1] - fd.subs(x,xs[-1])/fdd.subs(x,xs[-1]))\n",
      "\n",
      "Nfs = [f.subs(x,xi) for xi in xs]\n",
      "xsN = xs\n",
      "for c1,c2 in zip(xsN, Nfs):\n",
      "    print \"%-12.9s %0.9s\" % (c1,c2)"
     ],
     "language": "python",
     "metadata": {},
     "outputs": [
      {
       "output_type": "stream",
       "stream": "stdout",
       "text": [
        "3.0          79.000000\n",
        "2.0092592    15.289101\n",
        "1.3601479    3.0623609\n",
        "0.9518102    0.8689220\n",
        "0.7265253    0.5520887\n",
        "0.6422266    0.5278925\n",
        "0.6301933    0.5275297\n",
        "0.6299606    0.5275296\n",
        "0.6299605    0.5275296\n",
        "0.6299605    0.5275296\n"
       ]
      }
     ],
     "prompt_number": 13
    },
    {
     "cell_type": "markdown",
     "metadata": {},
     "source": [
      "How does it work?\n",
      "\n",
      "Newton's method starts off by using a second order Taylor expansion, this is equivalent to approximating the function with a quadratic polynomial:"
     ]
    },
    {
     "cell_type": "code",
     "collapsed": true,
     "input": [
      "def lam(f):\n",
      "    return lambdify(x, f, modules=['numpy'])"
     ],
     "language": "python",
     "metadata": {},
     "outputs": [],
     "prompt_number": 14
    },
    {
     "cell_type": "code",
     "collapsed": false,
     "input": [
      "x0 = 3\n",
      "evalfunc = lam(f)\n",
      "xval = np.linspace(-5.0, 5.0, 100)\n",
      "taylor = series(f, x, x0=x0, n=3).removeO()\n",
      "evaltaylor = lam(taylor)\n",
      "xval2 = np.linspace(-0.0, 5.0, 100)\n",
      "plt.plot(xval, evalfunc(xval))\n",
      "plt.plot(xval2, evaltaylor(xval2), color='r')\n",
      "plt.scatter(x0, evalfunc(x0), s=100, color='magenta')\n",
      "plt.show()"
     ],
     "language": "python",
     "metadata": {},
     "outputs": [
      {
       "metadata": {},
       "output_type": "display_data",
       "png": "[encoded data removed]",
       "text": [
        "<matplotlib.figure.Figure at 0x1114cf710>"
       ]
      }
     ],
     "prompt_number": 15
    },
    {
     "cell_type": "markdown",
     "metadata": {},
     "source": [
      "Then the derivative of this quadratic function is set to zero, this is equivalent to approximating the true derivative at the point as a straight line and finding its intercept with the x-axis:"
     ]
    },
    {
     "cell_type": "code",
     "collapsed": false,
     "input": [
      "fd = f.diff(x)\n",
      "evalfuncd = lam(fd)\n",
      "taylord = taylor.diff(x)\n",
      "evaltaylord = lam(taylord)\n",
      "intercept = solve(taylord, x)[0]\n",
      "\n",
      "plt.plot(xval, evalfuncd(xval))\n",
      "plt.plot(xval2, evaltaylord(xval2), color='r')\n",
      "plt.scatter(x0, evalfuncd(x0), s=100, color='magenta')\n",
      "plt.scatter(intercept, evalfuncd(intercept), s=100, color='green')\n",
      "plt.axvline(0, color='black')\n",
      "plt.axhline(0, color='black')\n",
      "plt.axvline(intercept, color='green')\n",
      "plt.xlim(-2,5)\n",
      "plt.ylim(-100,300)\n",
      "plt.show()"
     ],
     "language": "python",
     "metadata": {},
     "outputs": [
      {
       "metadata": {},
       "output_type": "display_data",
       "png": "[encoded data removed]",
       "text": [
        "<matplotlib.figure.Figure at 0x11149b510>"
       ]
      }
     ],
     "prompt_number": 16
    },
    {
     "cell_type": "markdown",
     "metadata": {},
     "source": [
      "This gives a value of around 2, as indicated in the table above and is also equivalent to jumping to minimum of the previously fitted quadratic. This is used as the new x value to evaluate the slope."
     ]
    },
    {
     "cell_type": "code",
     "collapsed": false,
     "input": [
      "from IPython.html.widgets import interact, interactive\n",
      "from IPython.html import widgets\n",
      "from IPython.display import display"
     ],
     "language": "python",
     "metadata": {},
     "outputs": [
      {
       "output_type": "stream",
       "stream": "stderr",
       "text": [
        ":0: FutureWarning: IPython widgets are experimental and may change in the future.\n"
       ]
      }
     ],
     "prompt_number": 17
    },
    {
     "cell_type": "code",
     "collapsed": true,
     "input": [
      "def show_newton(niter):\n",
      "    x = var('x')\n",
      "    f = x**4 - x + 1\n",
      "    fd = f.diff(x)\n",
      "    fdd = f.diff(x, 2)\n",
      "    N = 10\n",
      "    xs = [3.0]\n",
      "    for i in range(N-1):\n",
      "        xs.append(xs[-1] - fd.subs(x,xs[-1])/fdd.subs(x,xs[-1]))\n",
      "    Nfs = [f.subs(x,xi) for xi in xs]\n",
      "    xsN = xs\n",
      "    evalfunc = lambdify(x, f, modules=['numpy'])\n",
      "    xval = np.linspace(-5.0, 5.0, 100)\n",
      "    tfix = series(f, x, x0=xsN[niter], n=None)\n",
      "    taylor = sum([next(tfix) for _ in range(3)])\n",
      "    evaltaylor = lambdify(x, taylor, modules=['numpy'])\n",
      "    xval2 = np.linspace(-0.0, 5.0, 100)    \n",
      "    evalfuncd = lambdify(x, fd, modules=['numpy'])\n",
      "    taylord = taylor.diff(x)\n",
      "    evaltaylord = lambdify(x, taylord, modules=['numpy'])\n",
      "    plt.plot(xval, evalfuncd(xval))\n",
      "    plt.plot(xval2, evaltaylord(xval2), color='r')\n",
      "    plt.scatter(xsN[niter], evalfuncd(xsN[niter]), s=100, color='magenta')\n",
      "    plt.scatter(solve(taylord)[0], evalfuncd(solve(taylord)[0]), s=100, color='green')\n",
      "    plt.axvline(0, color='black')\n",
      "    plt.axhline(0, color='black')\n",
      "    plt.axvline(solve(taylord)[0], color='green')\n",
      "    plt.xlim(-2,3)\n",
      "    plt.ylim(-50,50)\n",
      "    plt.show()"
     ],
     "language": "python",
     "metadata": {},
     "outputs": [],
     "prompt_number": 18
    },
    {
     "cell_type": "code",
     "collapsed": true,
     "input": [
      "from collections import OrderedDict"
     ],
     "language": "python",
     "metadata": {},
     "outputs": [],
     "prompt_number": 19
    },
    {
     "cell_type": "code",
     "collapsed": false,
     "input": [
      "testValues = [1,2,3,4,5,6,7]\n",
      "testValuesn = ['1','2','3','4','5','6','7']\n",
      "testValues = OrderedDict(zip(testValuesn, testValues))\n",
      "ne = interactive(show_newton, niter=testValues)\n",
      "display(ne)"
     ],
     "language": "python",
     "metadata": {
      "scrolled": true
     },
     "outputs": [
      {
       "metadata": {},
       "output_type": "display_data",
       "png": "[encoded data removed]",
       "text": [
        "<matplotlib.figure.Figure at 0x111c0fd90>"
       ]
      }
     ],
     "prompt_number": 20
    },
    {
     "cell_type": "markdown",
     "metadata": {},
     "source": [
      "Quasi-Newton (Secant) method\n",
      "------------\n",
      "\n",
      "Note that this variation is a bracketing method, but secant methods do not require the points to span the mnimum in general. The algorithm implemented here is as it is described in the textbook.\n"
     ]
    },
    {
     "cell_type": "code",
     "collapsed": false,
     "input": [
      "# Secant method on this function\n",
      "N = 10 # iterations\n",
      "xp = -3.0\n",
      "xq = 3.0 # initial points\n",
      "xps = []\n",
      "xqs = []\n",
      "xs = []\n",
      "for i in range(N):\n",
      "    xps.append(xp)\n",
      "    xqs.append(xq)\n",
      "    fxq = fd.subs(x,xq)\n",
      "    fxp = fd.subs(x,xp)\n",
      "    xroot = (xq - fxq * (xq - xp) / (fxq - fxp))\n",
      "    xs.append(xroot)\n",
      "    froot = fd.subs(x,xroot)\n",
      "    if sign(fxp) == sign(froot):\n",
      "        xp = xroot\n",
      "    else:\n",
      "        xq = xroot\n",
      "\n",
      "Sfs = [f.subs(x,xi) for xi in xs]\n",
      "xsS = xs\n",
      "for c1,c2 in zip(xsS, Sfs):\n",
      "    print \"%-12.9s %0.9s\" % (c1,c2)"
     ],
     "language": "python",
     "metadata": {},
     "outputs": [
      {
       "output_type": "stream",
       "stream": "stdout",
       "text": [
        "0.0277777    0.9722228\n",
        "0.0552960    0.9447133\n",
        "0.0825435    0.9175028\n",
        "0.1094968    0.8906469\n",
        "0.1361214    0.8642218\n",
        "0.1623737    0.8383213\n",
        "0.1882022    0.8130523\n",
        "0.2135494    0.7885301\n",
        "0.2383538    0.7648738\n",
        "0.2625517    0.7422000\n"
       ]
      }
     ],
     "prompt_number": 43
    },
    {
     "cell_type": "markdown",
     "metadata": {},
     "source": [
      "The method effectively searches for the zero intercept of the derivative as approximated as a straight line between the two chosen points."
     ]
    },
    {
     "cell_type": "code",
     "collapsed": false,
     "input": [
      "m = (evalfuncd(-3.0) - evalfuncd(3.0))/(-3.0 - 3.0)\n",
      "c = evalfuncd(3.0) - 3.0 * m\n",
      "line = m*x + c\n",
      "evalline = lambdify(x, line, modules=['numpy'])\n",
      "plt.plot(xval, evalline(xval), color='r')\n",
      "plt.plot(xval, evalfuncd(xval), color='b')\n",
      "plt.scatter(-3.0, evalfuncd(-3.0), s=100, color='magenta')\n",
      "plt.scatter(3.0, evalfuncd(3.0), s=100, color='magenta')\n",
      "plt.scatter(solve(line)[0], evalfuncd(solve(line)[0]), s=100, color='green')\n",
      "plt.axvline(0, color='black')\n",
      "plt.axhline(0, color='black')\n",
      "plt.axvline(solve(line)[0], color='green')\n",
      "plt.xlim(-4,4)\n",
      "plt.ylim(-300,300)\n",
      "plt.show()"
     ],
     "language": "python",
     "metadata": {},
     "outputs": [
      {
       "metadata": {},
       "output_type": "display_data",
       "png": "[encoded data removed]",
       "text": [
        "<matplotlib.figure.Figure at 0x10ca6cd90>"
       ]
      }
     ],
     "prompt_number": 44
    },
    {
     "cell_type": "markdown",
     "metadata": {},
     "source": [
      "This is equivalent to finding the minimum of a quadratic with the same slopes as the function at the these two points."
     ]
    },
    {
     "cell_type": "code",
     "collapsed": false,
     "input": [
      "fapprox = line.integrate(x)\n",
      "evalfapprox = lambdify(x, fapprox, modules=['numpy'])\n",
      "plt.plot(xval, evalfunc(xval))\n",
      "plt.plot(xval, evalfapprox(xval), color='r')\n",
      "plt.scatter(solve(line)[0], evalfunc(solve(line)[0]), s=100, color='green')\n",
      "plt.scatter(-3.0, evalfunc(-3.0), s=100, color='magenta')\n",
      "plt.scatter(3.0, evalfunc(3.0), s=100, color='magenta')\n",
      "plt.show()"
     ],
     "language": "python",
     "metadata": {},
     "outputs": [
      {
       "metadata": {},
       "output_type": "display_data",
       "png": "[encoded data removed]",
       "text": [
        "<matplotlib.figure.Figure at 0x10cf30090>"
       ]
      }
     ],
     "prompt_number": 45
    },
    {
     "cell_type": "markdown",
     "metadata": {},
     "source": [
      "One of the remaining points must be selected in order to calculate the new approximation, this is done by ensuring that the slope has the opposite sign at the two chosen points."
     ]
    },
    {
     "cell_type": "code",
     "collapsed": true,
     "input": [
      "def show_secant(niter):\n",
      "    x = var('x')\n",
      "    f = x**4 - x + 1\n",
      "    fd = f.diff(x)\n",
      "    fdd = f.diff(x, 2)\n",
      "    N = 10\n",
      "    xp = -3.0\n",
      "    xq = 3.0 # initial points\n",
      "    xps = []\n",
      "    xqs = []\n",
      "    xs = [-3.0]\n",
      "    for i in range(N):\n",
      "        xps.append(xp)\n",
      "        xqs.append(xq)\n",
      "        fxq = fd.subs(x,xq)\n",
      "        fxp = fd.subs(x,xp)\n",
      "        xroot = (xq - fxq * (xq - xp) / (fxq - fxp))\n",
      "        xs.append(xroot)\n",
      "        froot = fd.subs(x,xroot)\n",
      "        if sign(fxp) == sign(froot):\n",
      "            xp = xroot\n",
      "        else:\n",
      "            xq = xroot\n",
      "    Sfs = [f.subs(x,xi) for xi in xs]\n",
      "    xsS = xs\n",
      "    m = (evalfuncd(xsS[niter-1]) - evalfuncd(3.0))/(xsS[niter-1] - 3.0)\n",
      "    c = evalfuncd(3.0) - 3.0 * m\n",
      "    line = m*x + c\n",
      "    evalline = lambdify(x, line, modules=['numpy'])\n",
      "    plt.plot(xval, evalline(xval), color='r')\n",
      "    plt.plot(xval, evalfuncd(xval), color='b')\n",
      "    plt.scatter(xsS[niter-1], evalfuncd(xsS[niter-1]), s=100, color='magenta')\n",
      "    plt.scatter(3.0, evalfuncd(3.0), s=100, color='magenta')\n",
      "    plt.scatter(solve(line)[0], evalfuncd(solve(line)[0]), s=100, color='green')\n",
      "    plt.axvline(0, color='black')\n",
      "    plt.axhline(0, color='black')\n",
      "    plt.axvline(solve(line)[0], color='green')\n",
      "    plt.xlim(-4,4)\n",
      "    plt.ylim(-300,300)\n",
      "    plt.show()"
     ],
     "language": "python",
     "metadata": {},
     "outputs": [],
     "prompt_number": 46
    },
    {
     "cell_type": "code",
     "collapsed": false,
     "input": [
      "se = interactive(show_secant, niter=testValues)\n",
      "display(se)"
     ],
     "language": "python",
     "metadata": {},
     "outputs": [
      {
       "metadata": {},
       "output_type": "display_data",
       "png": "[encoded data removed]",
       "text": [
        "<matplotlib.figure.Figure at 0x10cf30dd0>"
       ]
      }
     ],
     "prompt_number": 47
    },
    {
     "cell_type": "markdown",
     "metadata": {},
     "source": [
      "Secant starts better but converges slower for this function. This is in fact a general rule."
     ]
    },
    {
     "cell_type": "code",
     "collapsed": false,
     "input": [
      "iterval = np.linspace(1.0, 11.0, 10)\n",
      "Nfsarr = np.asarray(Nfs)\n",
      "Nfslog = [log(y+1) for y in Nfsarr]\n",
      "Sfsarr = np.asarray(Sfs)\n",
      "Sfslog = [log(y+1) for y in Sfsarr]\n",
      "plt.scatter(iterval, Nfslog, s=100, color='g')\n",
      "plt.scatter(iterval, Sfslog, s=100, color='b')\n",
      "plt.show()"
     ],
     "language": "python",
     "metadata": {
      "scrolled": true
     },
     "outputs": [
      {
       "metadata": {},
       "output_type": "display_data",
       "png": "[encoded data removed]",
       "text": [
        "<matplotlib.figure.Figure at 0x10e1068d0>"
       ]
      }
     ],
     "prompt_number": 48
    },
    {
     "cell_type": "code",
     "collapsed": true,
     "input": [],
     "language": "python",
     "metadata": {},
     "outputs": [],
     "prompt_number": null
    },
    {
     "cell_type": "code",
     "collapsed": true,
     "input": [],
     "language": "python",
     "metadata": {},
     "outputs": [],
     "prompt_number": null
    }
   ],
   "metadata": {}
  }
 ]
}
